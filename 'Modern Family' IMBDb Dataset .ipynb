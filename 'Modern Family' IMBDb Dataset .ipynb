{
 "cells": [
  {
   "cell_type": "markdown",
   "metadata": {},
   "source": [
    "Importing required libraries"
   ]
  },
  {
   "cell_type": "code",
   "execution_count": 47,
   "metadata": {
    "collapsed": true
   },
   "outputs": [],
   "source": [
    "import pandas as pd\n",
    "from requests import get\n",
    "from bs4 import BeautifulSoup"
   ]
  },
  {
   "cell_type": "markdown",
   "metadata": {},
   "source": [
    "Getting the URL and parsing the HTML content"
   ]
  },
  {
   "cell_type": "code",
   "execution_count": 48,
   "metadata": {},
   "outputs": [
    {
     "data": {
      "text/plain": [
       "bs4.BeautifulSoup"
      ]
     },
     "execution_count": 48,
     "metadata": {},
     "output_type": "execute_result"
    }
   ],
   "source": [
    "url = 'https://www.imdb.com/title/tt1442437/episodes?season=1'\n",
    "response = get(url)\n",
    "#print(response.text[:250])\n",
    "html_soup = BeautifulSoup(response.text, 'html.parser')\n",
    "type(html_soup)"
   ]
  },
  {
   "cell_type": "markdown",
   "metadata": {},
   "source": [
    "Episodes Information"
   ]
  },
  {
   "cell_type": "code",
   "execution_count": 49,
   "metadata": {
    "collapsed": true
   },
   "outputs": [],
   "source": [
    "episode_containers = html_soup.find_all('div', class_='info')"
   ]
  },
  {
   "cell_type": "markdown",
   "metadata": {},
   "source": [
    "Episode Title"
   ]
  },
  {
   "cell_type": "code",
   "execution_count": 50,
   "metadata": {},
   "outputs": [
    {
     "data": {
      "text/plain": [
       "'Pilot'"
      ]
     },
     "execution_count": 50,
     "metadata": {},
     "output_type": "execute_result"
    }
   ],
   "source": [
    "episode_containers[0].a['title']"
   ]
  },
  {
   "cell_type": "markdown",
   "metadata": {},
   "source": [
    "Episode Number"
   ]
  },
  {
   "cell_type": "code",
   "execution_count": 51,
   "metadata": {},
   "outputs": [
    {
     "data": {
      "text/plain": [
       "'1'"
      ]
     },
     "execution_count": 51,
     "metadata": {},
     "output_type": "execute_result"
    }
   ],
   "source": [
    "episode_containers[0].meta['content']"
   ]
  },
  {
   "cell_type": "markdown",
   "metadata": {},
   "source": [
    "Episode AirDate"
   ]
  },
  {
   "cell_type": "code",
   "execution_count": 52,
   "metadata": {},
   "outputs": [
    {
     "data": {
      "text/plain": [
       "'23 Sep. 2009'"
      ]
     },
     "execution_count": 52,
     "metadata": {},
     "output_type": "execute_result"
    }
   ],
   "source": [
    "episode_containers[0].find('div', class_='airdate').text.strip()"
   ]
  },
  {
   "cell_type": "markdown",
   "metadata": {},
   "source": [
    "Episode rating on IMDb"
   ]
  },
  {
   "cell_type": "code",
   "execution_count": 53,
   "metadata": {},
   "outputs": [
    {
     "data": {
      "text/plain": [
       "'8.2'"
      ]
     },
     "execution_count": 53,
     "metadata": {},
     "output_type": "execute_result"
    }
   ],
   "source": [
    "episode_containers[0].find('span', class_='ipl-rating-star__rating').text"
   ]
  },
  {
   "cell_type": "markdown",
   "metadata": {},
   "source": [
    "Episode votes"
   ]
  },
  {
   "cell_type": "code",
   "execution_count": 54,
   "metadata": {},
   "outputs": [
    {
     "data": {
      "text/plain": [
       "'(3,490)'"
      ]
     },
     "execution_count": 54,
     "metadata": {},
     "output_type": "execute_result"
    }
   ],
   "source": [
    "episode_containers[0].find('span', class_='ipl-rating-star__total-votes').text"
   ]
  },
  {
   "cell_type": "markdown",
   "metadata": {},
   "source": [
    "Episode Summary"
   ]
  },
  {
   "cell_type": "code",
   "execution_count": 55,
   "metadata": {},
   "outputs": [
    {
     "data": {
      "text/plain": [
       "'Jay must adapt to his young new wife, Gloria and her son. Meanwhile, Claire deals with her own family. Mitchell and Cam decide to adopt a baby.'"
      ]
     },
     "execution_count": 55,
     "metadata": {},
     "output_type": "execute_result"
    }
   ],
   "source": [
    "episode_containers[0].find('div', class_='item_description').text.strip()"
   ]
  },
  {
   "cell_type": "markdown",
   "metadata": {},
   "source": [
    "Gathering information on all episodes "
   ]
  },
  {
   "cell_type": "code",
   "execution_count": 56,
   "metadata": {
    "collapsed": true
   },
   "outputs": [],
   "source": [
    "# Initializing the series that the loop will populate\n",
    "mofa_episodes = []\n",
    "\n",
    "# For every season in the series-- range depends on the show\n",
    "for sn in range(1,12):\n",
    "    # Request from the server the content of the web page by using get(), and store the server’s response in the variable response\n",
    "    response = get('https://www.imdb.com/title/tt1442437/episodes?season=' + str(sn))\n",
    "\n",
    "    # Parse the content of the request with BeautifulSoup\n",
    "    page_html = BeautifulSoup(response.text, 'html.parser')\n",
    "\n",
    "    # Select all the episode containers from the season's page\n",
    "    episode_containers = page_html.find_all('div', class_ = 'info')\n",
    "\n",
    "    # For each episode in each season\n",
    "    for episodes in episode_containers:\n",
    "            # Get the info of each episode on the page\n",
    "            season = sn\n",
    "            episode_number = episodes.meta['content']\n",
    "            title = episodes.a['title']\n",
    "            airdate = episodes.find('div', class_='airdate').text.strip()\n",
    "            rating = episodes.find('span', class_='ipl-rating-star__rating').text\n",
    "            total_votes = episodes.find('span', class_='ipl-rating-star__total-votes').text\n",
    "            desc = episodes.find('div', class_='item_description').text.strip()\n",
    "            # Compiling the episode info\n",
    "            episode_data = [season, episode_number, title, airdate, rating, total_votes, desc]\n",
    "\n",
    "            # Append the episode info to the complete dataset\n",
    "            mofa_episodes.append(episode_data)"
   ]
  },
  {
   "cell_type": "markdown",
   "metadata": {},
   "source": [
    "Preparing the dataframe"
   ]
  },
  {
   "cell_type": "code",
   "execution_count": 57,
   "metadata": {},
   "outputs": [
    {
     "data": {
      "text/html": [
       "<div>\n",
       "<style scoped>\n",
       "    .dataframe tbody tr th:only-of-type {\n",
       "        vertical-align: middle;\n",
       "    }\n",
       "\n",
       "    .dataframe tbody tr th {\n",
       "        vertical-align: top;\n",
       "    }\n",
       "\n",
       "    .dataframe thead th {\n",
       "        text-align: right;\n",
       "    }\n",
       "</style>\n",
       "<table border=\"1\" class=\"dataframe\">\n",
       "  <thead>\n",
       "    <tr style=\"text-align: right;\">\n",
       "      <th></th>\n",
       "      <th>season</th>\n",
       "      <th>episode_number</th>\n",
       "      <th>title</th>\n",
       "      <th>airdate</th>\n",
       "      <th>rating</th>\n",
       "      <th>total_votes</th>\n",
       "      <th>desc</th>\n",
       "    </tr>\n",
       "  </thead>\n",
       "  <tbody>\n",
       "    <tr>\n",
       "      <th>0</th>\n",
       "      <td>1</td>\n",
       "      <td>1</td>\n",
       "      <td>Pilot</td>\n",
       "      <td>23 Sep. 2009</td>\n",
       "      <td>8.2</td>\n",
       "      <td>(3,490)</td>\n",
       "      <td>Jay must adapt to his young new wife, Gloria a...</td>\n",
       "    </tr>\n",
       "    <tr>\n",
       "      <th>1</th>\n",
       "      <td>1</td>\n",
       "      <td>2</td>\n",
       "      <td>The Bicycle Thief</td>\n",
       "      <td>30 Sep. 2009</td>\n",
       "      <td>8.2</td>\n",
       "      <td>(2,887)</td>\n",
       "      <td>After buying a new bike for his son, Phil ends...</td>\n",
       "    </tr>\n",
       "    <tr>\n",
       "      <th>2</th>\n",
       "      <td>1</td>\n",
       "      <td>3</td>\n",
       "      <td>Come Fly with Me</td>\n",
       "      <td>7 Oct. 2009</td>\n",
       "      <td>8.0</td>\n",
       "      <td>(2,553)</td>\n",
       "      <td>Jay takes Phil on a model-airplane excursion w...</td>\n",
       "    </tr>\n",
       "    <tr>\n",
       "      <th>3</th>\n",
       "      <td>1</td>\n",
       "      <td>4</td>\n",
       "      <td>The Incident</td>\n",
       "      <td>14 Oct. 2009</td>\n",
       "      <td>8.2</td>\n",
       "      <td>(2,608)</td>\n",
       "      <td>Jay's ex-wife shows up for the first time foll...</td>\n",
       "    </tr>\n",
       "    <tr>\n",
       "      <th>4</th>\n",
       "      <td>1</td>\n",
       "      <td>5</td>\n",
       "      <td>Coal Digger</td>\n",
       "      <td>21 Oct. 2009</td>\n",
       "      <td>8.3</td>\n",
       "      <td>(2,509)</td>\n",
       "      <td>A conflict between Manny and Luke spreads to t...</td>\n",
       "    </tr>\n",
       "  </tbody>\n",
       "</table>\n",
       "</div>"
      ],
      "text/plain": [
       "   season episode_number              title       airdate rating total_votes  \\\n",
       "0       1              1              Pilot  23 Sep. 2009    8.2     (3,490)   \n",
       "1       1              2  The Bicycle Thief  30 Sep. 2009    8.2     (2,887)   \n",
       "2       1              3   Come Fly with Me   7 Oct. 2009    8.0     (2,553)   \n",
       "3       1              4       The Incident  14 Oct. 2009    8.2     (2,608)   \n",
       "4       1              5        Coal Digger  21 Oct. 2009    8.3     (2,509)   \n",
       "\n",
       "                                                desc  \n",
       "0  Jay must adapt to his young new wife, Gloria a...  \n",
       "1  After buying a new bike for his son, Phil ends...  \n",
       "2  Jay takes Phil on a model-airplane excursion w...  \n",
       "3  Jay's ex-wife shows up for the first time foll...  \n",
       "4  A conflict between Manny and Luke spreads to t...  "
      ]
     },
     "execution_count": 57,
     "metadata": {},
     "output_type": "execute_result"
    }
   ],
   "source": [
    "mofa_episodes = pd.DataFrame(mofa_episodes, columns = ['season', 'episode_number', 'title', 'airdate', 'rating', 'total_votes', 'desc'])\n",
    "\n",
    "mofa_episodes.head()"
   ]
  },
  {
   "cell_type": "markdown",
   "metadata": {},
   "source": [
    "### Data Cleaning"
   ]
  },
  {
   "cell_type": "markdown",
   "metadata": {},
   "source": [
    "Converting number of votes to integer"
   ]
  },
  {
   "cell_type": "code",
   "execution_count": 58,
   "metadata": {},
   "outputs": [
    {
     "data": {
      "text/html": [
       "<div>\n",
       "<style scoped>\n",
       "    .dataframe tbody tr th:only-of-type {\n",
       "        vertical-align: middle;\n",
       "    }\n",
       "\n",
       "    .dataframe tbody tr th {\n",
       "        vertical-align: top;\n",
       "    }\n",
       "\n",
       "    .dataframe thead th {\n",
       "        text-align: right;\n",
       "    }\n",
       "</style>\n",
       "<table border=\"1\" class=\"dataframe\">\n",
       "  <thead>\n",
       "    <tr style=\"text-align: right;\">\n",
       "      <th></th>\n",
       "      <th>season</th>\n",
       "      <th>episode_number</th>\n",
       "      <th>title</th>\n",
       "      <th>airdate</th>\n",
       "      <th>rating</th>\n",
       "      <th>total_votes</th>\n",
       "      <th>desc</th>\n",
       "    </tr>\n",
       "  </thead>\n",
       "  <tbody>\n",
       "    <tr>\n",
       "      <th>0</th>\n",
       "      <td>1</td>\n",
       "      <td>1</td>\n",
       "      <td>Pilot</td>\n",
       "      <td>23 Sep. 2009</td>\n",
       "      <td>8.2</td>\n",
       "      <td>3490</td>\n",
       "      <td>Jay must adapt to his young new wife, Gloria a...</td>\n",
       "    </tr>\n",
       "    <tr>\n",
       "      <th>1</th>\n",
       "      <td>1</td>\n",
       "      <td>2</td>\n",
       "      <td>The Bicycle Thief</td>\n",
       "      <td>30 Sep. 2009</td>\n",
       "      <td>8.2</td>\n",
       "      <td>2887</td>\n",
       "      <td>After buying a new bike for his son, Phil ends...</td>\n",
       "    </tr>\n",
       "    <tr>\n",
       "      <th>2</th>\n",
       "      <td>1</td>\n",
       "      <td>3</td>\n",
       "      <td>Come Fly with Me</td>\n",
       "      <td>7 Oct. 2009</td>\n",
       "      <td>8.0</td>\n",
       "      <td>2553</td>\n",
       "      <td>Jay takes Phil on a model-airplane excursion w...</td>\n",
       "    </tr>\n",
       "    <tr>\n",
       "      <th>3</th>\n",
       "      <td>1</td>\n",
       "      <td>4</td>\n",
       "      <td>The Incident</td>\n",
       "      <td>14 Oct. 2009</td>\n",
       "      <td>8.2</td>\n",
       "      <td>2608</td>\n",
       "      <td>Jay's ex-wife shows up for the first time foll...</td>\n",
       "    </tr>\n",
       "    <tr>\n",
       "      <th>4</th>\n",
       "      <td>1</td>\n",
       "      <td>5</td>\n",
       "      <td>Coal Digger</td>\n",
       "      <td>21 Oct. 2009</td>\n",
       "      <td>8.3</td>\n",
       "      <td>2509</td>\n",
       "      <td>A conflict between Manny and Luke spreads to t...</td>\n",
       "    </tr>\n",
       "  </tbody>\n",
       "</table>\n",
       "</div>"
      ],
      "text/plain": [
       "   season episode_number              title       airdate rating  total_votes  \\\n",
       "0       1              1              Pilot  23 Sep. 2009    8.2         3490   \n",
       "1       1              2  The Bicycle Thief  30 Sep. 2009    8.2         2887   \n",
       "2       1              3   Come Fly with Me   7 Oct. 2009    8.0         2553   \n",
       "3       1              4       The Incident  14 Oct. 2009    8.2         2608   \n",
       "4       1              5        Coal Digger  21 Oct. 2009    8.3         2509   \n",
       "\n",
       "                                                desc  \n",
       "0  Jay must adapt to his young new wife, Gloria a...  \n",
       "1  After buying a new bike for his son, Phil ends...  \n",
       "2  Jay takes Phil on a model-airplane excursion w...  \n",
       "3  Jay's ex-wife shows up for the first time foll...  \n",
       "4  A conflict between Manny and Luke spreads to t...  "
      ]
     },
     "execution_count": 58,
     "metadata": {},
     "output_type": "execute_result"
    }
   ],
   "source": [
    "def remove_str(votes):\n",
    "    for r in ((',',''), ('(',''),(')','')):\n",
    "        votes = votes.replace(*r)\n",
    "        \n",
    "    return votes\n",
    "\n",
    "\n",
    "mofa_episodes['total_votes'] = mofa_episodes.total_votes.apply(remove_str).astype(int)\n",
    "\n",
    "mofa_episodes.head()"
   ]
  },
  {
   "cell_type": "markdown",
   "metadata": {},
   "source": [
    "Converting rating from string to integer"
   ]
  },
  {
   "cell_type": "code",
   "execution_count": 59,
   "metadata": {
    "collapsed": true
   },
   "outputs": [],
   "source": [
    "mofa_episodes['rating'] = mofa_episodes.rating.astype(float)"
   ]
  },
  {
   "cell_type": "markdown",
   "metadata": {},
   "source": [
    "Converting datatype of airdate to timestamp"
   ]
  },
  {
   "cell_type": "code",
   "execution_count": 60,
   "metadata": {},
   "outputs": [
    {
     "name": "stdout",
     "output_type": "stream",
     "text": [
      "<class 'pandas.core.frame.DataFrame'>\n",
      "RangeIndex: 250 entries, 0 to 249\n",
      "Data columns (total 7 columns):\n",
      "season            250 non-null int64\n",
      "episode_number    250 non-null object\n",
      "title             250 non-null object\n",
      "airdate           250 non-null datetime64[ns]\n",
      "rating            250 non-null float64\n",
      "total_votes       250 non-null int32\n",
      "desc              250 non-null object\n",
      "dtypes: datetime64[ns](1), float64(1), int32(1), int64(1), object(3)\n",
      "memory usage: 12.8+ KB\n"
     ]
    }
   ],
   "source": [
    "mofa_episodes['airdate'] = pd.to_datetime(mofa_episodes.airdate)\n",
    "\n",
    "mofa_episodes.info()"
   ]
  },
  {
   "cell_type": "markdown",
   "metadata": {},
   "source": [
    "Saving the final dataset as excel file"
   ]
  },
  {
   "cell_type": "code",
   "execution_count": 62,
   "metadata": {},
   "outputs": [],
   "source": [
    "mofa_episodes.to_excel('Modern_Family_Episodes_IMDb_Ratings.xlsx',index=False)"
   ]
  }
 ],
 "metadata": {
  "kernelspec": {
   "display_name": "Python 3",
   "language": "python",
   "name": "python3"
  },
  "language_info": {
   "codemirror_mode": {
    "name": "ipython",
    "version": 3
   },
   "file_extension": ".py",
   "mimetype": "text/x-python",
   "name": "python",
   "nbconvert_exporter": "python",
   "pygments_lexer": "ipython3",
   "version": "3.6.3"
  }
 },
 "nbformat": 4,
 "nbformat_minor": 2
}
